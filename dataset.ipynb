{
 "cells": [
  {
   "cell_type": "code",
   "execution_count": 7,
   "metadata": {},
   "outputs": [
    {
     "name": "stdout",
     "output_type": "stream",
     "text": [
      "CSV file \"face_id_dataset.csv\" has been created.\n"
     ]
    }
   ],
   "source": [
    "import os\n",
    "import random\n",
    "import csv\n",
    "\n",
    "# Path to the dataset folder\n",
    "dataset_folder = 'dataset'\n",
    "\n",
    "# Number of people\n",
    "num_people = 2000\n",
    "\n",
    "# Number of images per person\n",
    "num_images_per_person = 72\n",
    "\n",
    "# Number of pairs to generate\n",
    "num_pairs = 50000  # You can adjust this number as needed\n",
    "\n",
    "# Output CSV file name\n",
    "output_csv_file = 'face_id_dataset.csv'\n",
    "\n",
    "# Initialize a list to store the image pairs and labels\n",
    "image_pairs = []\n",
    "\n",
    "# Generate positive pairs (same person)\n",
    "for _ in range(num_pairs // 2):\n",
    "    person_id = random.randint(0, num_people - 1)\n",
    "    person_folder = os.path.join(dataset_folder, str(person_id))\n",
    "    image_files = os.listdir(person_folder)\n",
    "    image1, image2 = random.sample(image_files, 2)\n",
    "    image_pairs.append([os.path.join(person_folder, image1), os.path.join(person_folder, image2), 1])\n",
    "\n",
    "# Generate negative pairs (different people)\n",
    "for _ in range(num_pairs // 2):\n",
    "    person1_id, person2_id = random.sample(range(num_people), 2)\n",
    "    person1_folder = os.path.join(dataset_folder, str(person1_id))\n",
    "    person2_folder = os.path.join(dataset_folder, str(person2_id))\n",
    "    image1 = random.choice(os.listdir(person1_folder))\n",
    "    image2 = random.choice(os.listdir(person2_folder))\n",
    "    image_pairs.append([os.path.join(person1_folder, image1), os.path.join(person2_folder, image2), 0])\n",
    "\n",
    "# Shuffle the list of pairs\n",
    "random.shuffle(image_pairs)\n",
    "\n",
    "# for i in range(len(image_pairs)):\n",
    "#     image_pairs[i].insert(0, i+1)\n",
    "\n",
    "# Write the image pairs and labels to a CSV file\n",
    "i = 0\n",
    "with open(output_csv_file, 'w', newline='') as csv_file:\n",
    "    csv_writer = csv.writer(csv_file)\n",
    "    csv_writer.writerow(['Image1', 'Image2', 'Label'])\n",
    "    csv_writer.writerows(image_pairs)\n",
    "\n",
    "print(f'CSV file \"{output_csv_file}\" has been created.')"
   ]
  },
  {
   "cell_type": "code",
   "execution_count": 9,
   "metadata": {},
   "outputs": [
    {
     "name": "stdout",
     "output_type": "stream",
     "text": [
      "[PhysicalDevice(name='/physical_device:GPU:0', device_type='GPU')]\n",
      "Num GPUs Available:  1\n"
     ]
    }
   ],
   "source": [
    "import tensorflow as tf\n",
    "print(tf.config.list_physical_devices('GPU'))\n",
    "print(\"Num GPUs Available: \", len(tf.config.list_physical_devices('GPU')))"
   ]
  }
 ],
 "metadata": {
  "kernelspec": {
   "display_name": "ML_TF",
   "language": "python",
   "name": "python3"
  },
  "language_info": {
   "codemirror_mode": {
    "name": "ipython",
    "version": 3
   },
   "file_extension": ".py",
   "mimetype": "text/x-python",
   "name": "python",
   "nbconvert_exporter": "python",
   "pygments_lexer": "ipython3",
   "version": "3.10.13"
  }
 },
 "nbformat": 4,
 "nbformat_minor": 2
}
